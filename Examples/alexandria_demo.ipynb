{
 "cells": [
  {
   "cell_type": "code",
   "execution_count": 43,
   "metadata": {},
   "outputs": [],
   "source": [
    "import alexandria as fs"
   ]
  },
  {
   "cell_type": "code",
   "execution_count": 44,
   "metadata": {
    "tags": []
   },
   "outputs": [],
   "source": [
    "fileSystem = fs.jsonReader(\"configs\", \"meta.json\")"
   ]
  },
  {
   "cell_type": "code",
   "execution_count": 45,
   "metadata": {},
   "outputs": [
    {
     "data": {
      "text/plain": [
       "'configs'"
      ]
     },
     "execution_count": 45,
     "metadata": {},
     "output_type": "execute_result"
    }
   ],
   "source": [
    "fileSystem.get_name()"
   ]
  },
  {
   "cell_type": "code",
   "execution_count": 46,
   "metadata": {},
   "outputs": [
    {
     "data": {
      "text/plain": [
       "{'configuration': {'robot': {'ip': 'configs/ip.json',\n",
       "   'arms': 'configs/arms.json',\n",
       "   'left_arm_common': 'configs/left_arm_common.json',\n",
       "   'arm_links': 'configs/arm_links.json',\n",
       "   'calibrations': 'configs/calibrations.json'}},\n",
       " 'user': {'demo': 'configs/demo.json'}}"
      ]
     },
     "execution_count": 46,
     "metadata": {},
     "output_type": "execute_result"
    }
   ],
   "source": [
    "file_dir = fileSystem.get_directory()\n",
    "file_dir"
   ]
  },
  {
   "cell_type": "code",
   "execution_count": 47,
   "metadata": {},
   "outputs": [],
   "source": [
    "data = fileSystem.get_data()\n",
    "# data"
   ]
  },
  {
   "cell_type": "code",
   "execution_count": 48,
   "metadata": {},
   "outputs": [],
   "source": [
    "# fileSystem.get_values_list()"
   ]
  },
  {
   "cell_type": "code",
   "execution_count": 49,
   "metadata": {},
   "outputs": [
    {
     "data": {
      "text/plain": [
       "{'demo': {}}"
      ]
     },
     "execution_count": 49,
     "metadata": {},
     "output_type": "execute_result"
    }
   ],
   "source": [
    "data[\"user\"]"
   ]
  },
  {
   "cell_type": "code",
   "execution_count": 50,
   "metadata": {
    "tags": []
   },
   "outputs": [],
   "source": [
    "new_dir = {\"user\" : { \"location\" : \"configs/user_location.json\"}}"
   ]
  },
  {
   "cell_type": "code",
   "execution_count": 51,
   "metadata": {},
   "outputs": [
    {
     "data": {
      "text/plain": [
       "{'configuration': {'robot': {'ip': 'configs/ip.json',\n",
       "   'arms': 'configs/arms.json',\n",
       "   'left_arm_common': 'configs/left_arm_common.json',\n",
       "   'arm_links': 'configs/arm_links.json',\n",
       "   'calibrations': 'configs/calibrations.json'}},\n",
       " 'user': {'demo': 'configs/demo.json'}}"
      ]
     },
     "execution_count": 51,
     "metadata": {},
     "output_type": "execute_result"
    }
   ],
   "source": [
    "fileSystem.get_directory()"
   ]
  },
  {
   "cell_type": "code",
   "execution_count": 52,
   "metadata": {
    "tags": []
   },
   "outputs": [
    {
     "name": "stdout",
     "output_type": "stream",
     "text": [
      "{'user': {'location': 'configs/user_location.json'}} True\n",
      "{'location': 'configs/user_location.json'} False\n",
      "{'user': {'location': 'configs/user_location.json'}}\n",
      "Updated base configs\n"
     ]
    }
   ],
   "source": [
    "fileSystem.add_new_file(new_dir,data)"
   ]
  },
  {
   "cell_type": "code",
   "execution_count": 53,
   "metadata": {},
   "outputs": [
    {
     "data": {
      "text/plain": [
       "{'configuration': {'robot': {'ip': 'configs/ip.json',\n",
       "   'arms': 'configs/arms.json',\n",
       "   'left_arm_common': 'configs/left_arm_common.json',\n",
       "   'arm_links': 'configs/arm_links.json',\n",
       "   'calibrations': 'configs/calibrations.json'}},\n",
       " 'user': {'location': 'configs/user_location.json'}}"
      ]
     },
     "execution_count": 53,
     "metadata": {},
     "output_type": "execute_result"
    }
   ],
   "source": [
    "file_dir = fileSystem.get_directory()\n",
    "file_dir"
   ]
  },
  {
   "cell_type": "code",
   "execution_count": 58,
   "metadata": {
    "tags": []
   },
   "outputs": [
    {
     "name": "stdout",
     "output_type": "stream",
     "text": [
      "Updated\n"
     ]
    }
   ],
   "source": [
    "fileSystem.update_file_with_dict(\"configs/user_location.json\", {\"location\": \"table\", \"color\": \"red\"})"
   ]
  },
  {
   "cell_type": "code",
   "execution_count": 60,
   "metadata": {
    "tags": []
   },
   "outputs": [
    {
     "name": "stdout",
     "output_type": "stream",
     "text": [
      "Updating key: 'location' with value: table\n",
      "Updated\n"
     ]
    }
   ],
   "source": [
    "fileSystem.update_file_config_with_key(\"configs/user_location.json\",\"location\",\"chair\")"
   ]
  },
  {
   "cell_type": "code",
   "execution_count": 61,
   "metadata": {
    "tags": []
   },
   "outputs": [
    {
     "name": "stdout",
     "output_type": "stream",
     "text": [
      "Deleted locationfrom configs/user_location.json\n"
     ]
    }
   ],
   "source": [
    "fileSystem.delete_entry(\"configs/user_location.json\", \"location\")"
   ]
  },
  {
   "cell_type": "code",
   "execution_count": null,
   "metadata": {},
   "outputs": [],
   "source": []
  }
 ],
 "metadata": {
  "kernelspec": {
   "display_name": "Python 3",
   "language": "python",
   "name": "python3"
  },
  "language_info": {
   "codemirror_mode": {
    "name": "ipython",
    "version": 3
   },
   "file_extension": ".py",
   "mimetype": "text/x-python",
   "name": "python",
   "nbconvert_exporter": "python",
   "pygments_lexer": "ipython3",
   "version": "3.5.2"
  },
  "latex_envs": {
   "LaTeX_envs_menu_present": true,
   "autoclose": false,
   "autocomplete": true,
   "bibliofile": "biblio.bib",
   "cite_by": "apalike",
   "current_citInitial": 1,
   "eqLabelWithNumbers": true,
   "eqNumInitial": 1,
   "hotkeys": {
    "equation": "Ctrl-E",
    "itemize": "Ctrl-I"
   },
   "labels_anchors": false,
   "latex_user_defs": false,
   "report_style_numbering": false,
   "user_envs_cfg": false
  },
  "toc": {
   "base_numbering": 1,
   "nav_menu": {},
   "number_sections": true,
   "sideBar": true,
   "skip_h1_title": false,
   "title_cell": "Table of Contents",
   "title_sidebar": "Contents",
   "toc_cell": false,
   "toc_position": {},
   "toc_section_display": true,
   "toc_window_display": false
  }
 },
 "nbformat": 4,
 "nbformat_minor": 2
}
