{
 "cells": [
  {
   "cell_type": "code",
   "execution_count": 1,
   "metadata": {},
   "outputs": [],
   "source": [
    "from jarvis import Jarvis\n",
    "import klampt\n",
    "from klampt.model import ik,coordinates,config,trajectory,collide\n",
    "from klampt import io"
   ]
  },
  {
   "cell_type": "markdown",
   "metadata": {},
   "source": [
    "## Start Jarvis"
   ]
  },
  {
   "cell_type": "code",
   "execution_count": 2,
   "metadata": {},
   "outputs": [],
   "source": [
    "jarvis = Jarvis('PointClickNav')"
   ]
  },
  {
   "cell_type": "markdown",
   "metadata": {},
   "source": [
    "# addText\n",
    "#### Add text to specfified location on UI screen. "
   ]
  },
  {
   "cell_type": "code",
   "execution_count": 4,
   "metadata": {},
   "outputs": [
    {
     "name": "stdout",
     "output_type": "stream",
     "text": [
      "commandQueue [{'funcName': 'addText', 'from': 'PointClickNav', 'args': {'text': 'test string', 'size': 50, 'color': [1, 0, 0], 'name': 'text_0'}}]\n"
     ]
    },
    {
     "data": {
      "text/plain": [
       "'text_0'"
      ]
     },
     "execution_count": 4,
     "metadata": {},
     "output_type": "execute_result"
    }
   ],
   "source": [
    "jarvis.addTextUI('text_0','test string',[1,0,0],50)"
   ]
  },
  {
   "cell_type": "markdown",
   "metadata": {},
   "source": [
    "# addConfirmation\n",
    "#### Display a confimation window with specified title and text, a string of 'YES' or \"NO\" is returned\n",
    "* BLOCKING"
   ]
  },
  {
   "cell_type": "code",
   "execution_count": 13,
   "metadata": {},
   "outputs": [
    {
     "name": "stdout",
     "output_type": "stream",
     "text": [
      "commandQueue [{'funcName': 'addConfirmation', 'from': 'PointClickNav', 'args': {'text': 'confirm?', 'title': 'confirm title', 'id': '$a4a638b0e1b211eaae4d0c5415f1d385'}}]\n"
     ]
    },
    {
     "data": {
      "text/plain": [
       "'NO'"
      ]
     },
     "execution_count": 13,
     "metadata": {},
     "output_type": "execute_result"
    }
   ],
   "source": [
    "jarvis.sendAndGetConfirmationUI('confirm title','confirm?')"
   ]
  },
  {
   "cell_type": "markdown",
   "metadata": {},
   "source": [
    "# sendTrajectory\n",
    "#### Send a trajectory to UI, UI will add the path preview "
   ]
  },
  {
   "cell_type": "code",
   "execution_count": 5,
   "metadata": {},
   "outputs": [
    {
     "name": "stdout",
     "output_type": "stream",
     "text": [
      "commandQueue [{'from': 'PointClickNav', 'funcName': 'sendTrajectory', 'args': {'trajectory': {'times': [0, 1, 2, 3, 4, 5, 6, 7, 8, 9], 'milestones': [[0, 0, 0.05], [0, 1, 0.05], [0, 2, 0.05], [0, 3, 0.05], [0, 4, 0.05], [0, 5, 0.05], [0, 6, 0.05], [0, 7, 0.05], [0, 8, 0.05], [0, 9, 0.05]]}, 'animate': False}}]\n"
     ]
    }
   ],
   "source": [
    "times = list(range(10))\n",
    "milestones = []\n",
    "for t in times:\n",
    "    milestones.append([0,t,0.05])\n",
    "traj = trajectory.Trajectory(times,milestones)\n",
    "\n",
    "jarvis.sendTrajectoryUI(traj)"
   ]
  },
  {
   "cell_type": "markdown",
   "metadata": {},
   "source": [
    "# getRayClick\n",
    "#### Ask the user to click twice on the map, and sending back 2 ray objects according to the user clicks. first one for destination, second one for calibration. Both ray would be returned\n",
    "* BLOCKING"
   ]
  },
  {
   "cell_type": "code",
   "execution_count": 6,
   "metadata": {},
   "outputs": [
    {
     "name": "stdout",
     "output_type": "stream",
     "text": [
      "commandQueue [{'from': 'PointClickNav', 'funcName': 'getRayClick', 'args': {'id': '$068ee758c65011ea8d5b0c5415f1d385'}}]\n"
     ]
    },
    {
     "data": {
      "text/plain": [
       "{'FIRST_RAY': {'destination': [0.07947531528678997,\n",
       "   -0.8890604610233788,\n",
       "   -0.45083829795721947],\n",
       "  'source': [-0.3215001854266967, 12.9668135210657, 6.574604534709306]},\n",
       " 'SECOND_RAY': {'destination': [0.058994197839075294,\n",
       "   -0.8788549734474834,\n",
       "   -0.47342752377523134],\n",
       "  'source': [-0.3215001854266967, 12.9668135210657, 6.574604534709306]}}"
      ]
     },
     "execution_count": 6,
     "metadata": {},
     "output_type": "execute_result"
    }
   ],
   "source": [
    "jarvis.sendAndGetRayClickUI()"
   ]
  },
  {
   "cell_type": "markdown",
   "metadata": {},
   "source": [
    "# addButton\n",
    "#### Add a button to the UI window"
   ]
  },
  {
   "cell_type": "code",
   "execution_count": 7,
   "metadata": {},
   "outputs": [
    {
     "name": "stdout",
     "output_type": "stream",
     "text": [
      "commandQueue [{'from': 'PointClickNav', 'funcName': 'addButton', 'args': {'text': 'testbutton', 'name': 'button1'}}]\n"
     ]
    },
    {
     "data": {
      "text/plain": [
       "'button1'"
      ]
     },
     "execution_count": 7,
     "metadata": {},
     "output_type": "execute_result"
    }
   ],
   "source": [
    "jarvis.addButtonUI('button1','testbutton')"
   ]
  },
  {
   "cell_type": "code",
   "execution_count": 8,
   "metadata": {},
   "outputs": [
    {
     "name": "stdout",
     "output_type": "stream",
     "text": [
      "commandQueue [{'from': 'PointClickNav', 'funcName': 'addButton', 'args': {'text': 'testbutton2', 'name': 'button2'}}]\n"
     ]
    },
    {
     "data": {
      "text/plain": [
       "'button2'"
      ]
     },
     "execution_count": 8,
     "metadata": {},
     "output_type": "execute_result"
    }
   ],
   "source": [
    "jarvis.addButtonUI('button2','testbutton2')"
   ]
  },
  {
   "cell_type": "code",
   "execution_count": null,
   "metadata": {},
   "outputs": [],
   "source": []
  },
  {
   "cell_type": "code",
   "execution_count": null,
   "metadata": {},
   "outputs": [],
   "source": []
  },
  {
   "cell_type": "code",
   "execution_count": null,
   "metadata": {},
   "outputs": [],
   "source": []
  },
  {
   "cell_type": "code",
   "execution_count": null,
   "metadata": {},
   "outputs": [],
   "source": []
  },
  {
   "cell_type": "code",
   "execution_count": null,
   "metadata": {},
   "outputs": [],
   "source": []
  },
  {
   "cell_type": "code",
   "execution_count": null,
   "metadata": {},
   "outputs": [],
   "source": []
  },
  {
   "cell_type": "code",
   "execution_count": null,
   "metadata": {},
   "outputs": [],
   "source": []
  },
  {
   "cell_type": "code",
   "execution_count": null,
   "metadata": {},
   "outputs": [],
   "source": []
  },
  {
   "cell_type": "code",
   "execution_count": null,
   "metadata": {},
   "outputs": [],
   "source": []
  },
  {
   "cell_type": "code",
   "execution_count": null,
   "metadata": {},
   "outputs": [],
   "source": []
  },
  {
   "cell_type": "markdown",
   "metadata": {},
   "source": [
    "#### Display a confimation window with specified title and text, id for UI feedback is returned"
   ]
  },
  {
   "cell_type": "code",
   "execution_count": 10,
   "metadata": {},
   "outputs": [
    {
     "name": "stdout",
     "output_type": "stream",
     "text": [
      "commandQueue [{'funcName': 'addConfirmation', 'from': 'PointClickNav', 'args': {'text': 'confirm?', 'title': 'confirm title', 'id': '$761ba7b0e1b111eaae4d0c5415f1d385'}}]\n"
     ]
    },
    {
     "data": {
      "text/plain": [
       "'$761ba7b0e1b111eaae4d0c5415f1d385'"
      ]
     },
     "execution_count": 10,
     "metadata": {},
     "output_type": "execute_result"
    }
   ],
   "source": [
    "jarvis.sendConfirmationUI('confirm title','confirm?')"
   ]
  },
  {
   "cell_type": "markdown",
   "metadata": {},
   "source": [
    "#### Get the feedback of Confirmation Window of the specified id. "
   ]
  },
  {
   "cell_type": "code",
   "execution_count": 8,
   "metadata": {},
   "outputs": [
    {
     "data": {
      "text/plain": [
       "'NO'"
      ]
     },
     "execution_count": 8,
     "metadata": {},
     "output_type": "execute_result"
    }
   ],
   "source": [
    "jarvis.getConfirmationUI('$da714f4ce1ae11eaae4d0c5415f1d385')"
   ]
  },
  {
   "cell_type": "markdown",
   "metadata": {},
   "source": [
    "#### Ask the user to click twice on the map, and sending back 2 ray objects according to the user clicks. first one for destination, second one for calibration,. id for feedback is returned"
   ]
  },
  {
   "cell_type": "code",
   "execution_count": null,
   "metadata": {},
   "outputs": [],
   "source": [
    "jarvis.sendRayClickUI()"
   ]
  },
  {
   "cell_type": "markdown",
   "metadata": {},
   "source": [
    "#### Get the feedback of Ray Click of the specified id."
   ]
  },
  {
   "cell_type": "code",
   "execution_count": null,
   "metadata": {},
   "outputs": [],
   "source": [
    "jarvis.getRayClickUI('$39a470f2adac11ea83710c5415f1d385')"
   ]
  },
  {
   "cell_type": "markdown",
   "metadata": {},
   "source": [
    "#### A loop checking if created button is clicked"
   ]
  },
  {
   "cell_type": "code",
   "execution_count": null,
   "metadata": {},
   "outputs": [],
   "source": [
    "n = 0\n",
    "while(n<10000):\n",
    "    n += 1\n",
    "    if jarvis.getButtonClickUI('button1'):\n",
    "        print(\"button is clicked\")"
   ]
  }
 ],
 "metadata": {
  "celltoolbar": "Raw Cell Format",
  "kernelspec": {
   "display_name": "Python 3",
   "language": "python",
   "name": "python3"
  },
  "language_info": {
   "codemirror_mode": {
    "name": "ipython",
    "version": 3
   },
   "file_extension": ".py",
   "mimetype": "text/x-python",
   "name": "python",
   "nbconvert_exporter": "python",
   "pygments_lexer": "ipython3",
   "version": "3.5.2"
  },
  "toc": {
   "base_numbering": 1,
   "nav_menu": {},
   "number_sections": true,
   "sideBar": true,
   "skip_h1_title": false,
   "title_cell": "Table of Contents",
   "title_sidebar": "Contents",
   "toc_cell": false,
   "toc_position": {},
   "toc_section_display": true,
   "toc_window_display": false
  }
 },
 "nbformat": 4,
 "nbformat_minor": 4
}
