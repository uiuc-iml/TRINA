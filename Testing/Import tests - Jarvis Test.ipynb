{
 "cells": [
  {
   "cell_type": "code",
   "execution_count": null,
   "metadata": {},
   "outputs": [],
   "source": [
    "from importlib import reload \n",
    "import trina_modules\n",
    "import time\n",
    "import multiprocessing\n"
   ]
  },
  {
   "cell_type": "markdown",
   "metadata": {},
   "source": [
    "# Testing dynamic imports:"
   ]
  },
  {
   "cell_type": "code",
   "execution_count": null,
   "metadata": {},
   "outputs": [],
   "source": [
    "import sys, inspect\n",
    "\n",
    "\n",
    "def start_module(module):\n",
    "    a = module()\n",
    "    return a.return_processes()\n",
    "\n",
    "modules_dict = {}\n",
    "while(True):\n",
    "    trina_modules = reload(trina_modules)\n",
    "    for name, obj in inspect.getmembers(trina_modules):\n",
    "        if inspect.isclass(obj):\n",
    "            tmp = obj()\n",
    "            modules_dict.update({name:tmp})\n",
    "            print(tmp.name)\n",
    "    print(modules_dict)\n",
    "    time.sleep(3)\n"
   ]
  },
  {
   "cell_type": "markdown",
   "metadata": {},
   "source": [
    "# Testing Process-based control:\n"
   ]
  },
  {
   "cell_type": "code",
   "execution_count": null,
   "metadata": {},
   "outputs": [],
   "source": [
    "from importlib import reload \n",
    "import trina_modules\n",
    "import time\n",
    "import multiprocessing\n"
   ]
  },
  {
   "cell_type": "code",
   "execution_count": null,
   "metadata": {},
   "outputs": [],
   "source": [
    "import sys, inspect\n",
    "\n",
    "\n",
    "def start_module(module):\n",
    "    a = module()\n",
    "    return a.return_processes()\n",
    "\n",
    "modules_dict = {}\n",
    "trina_modules = reload(trina_modules)\n",
    "for name, obj in inspect.getmembers(trina_modules):\n",
    "    if inspect.isclass(obj):\n",
    "        tmp = start_module(obj)\n",
    "        modules_dict.update({name:tmp})\n",
    "print(modules_dict)\n"
   ]
  },
  {
   "cell_type": "code",
   "execution_count": null,
   "metadata": {},
   "outputs": [],
   "source": [
    "modules_dict['C1'][1].terminate()"
   ]
  },
  {
   "cell_type": "code",
   "execution_count": null,
   "metadata": {},
   "outputs": [],
   "source": [
    "modules_dict['C2'][1].terminate()"
   ]
  },
  {
   "cell_type": "code",
   "execution_count": null,
   "metadata": {},
   "outputs": [],
   "source": [
    "shape = [[(-6,1)],\n",
    "         [(-13,2),(-13,1),(-12,1),(-12,2)],\n",
    "         [(-11,4),(-11,-2),(-9,-2),(-9,4)],\n",
    "         [(-8,7),(-7,6),(-6,6),(-5,7),(-6,8),(-7,8)],\n",
    "         [(-2,8),(-2,0),(0,0),(0,8)],\n",
    "         [(3,6),(4,6),(5,7),(4,8),(3,8),(2,7)],\n",
    "         [(11,12),(11,7),(13,7),(13,12)],\n",
    "         [(13,5),(13,2),(12,2),(12,5)],\n",
    "         [(13,-3),(11,-5),[14,-5]]\n",
    "        ]"
   ]
  },
  {
   "cell_type": "markdown",
   "metadata": {},
   "source": [
    "# Testing relevant reem interactions:"
   ]
  },
  {
   "cell_type": "code",
   "execution_count": null,
   "metadata": {},
   "outputs": [],
   "source": [
    "from importlib import reload \n",
    "import trina_modules\n",
    "import time\n",
    "import multiprocessing\n",
    "from reem.connection import RedisInterface\n",
    "from reem.datatypes import KeyValueStore\n",
    "import sys, inspect\n",
    "\n",
    "\n",
    "interface = RedisInterface(host=\"localhost\")\n",
    "interface.initialize()\n",
    "server = KeyValueStore(interface)\n",
    "\n",
    "import sys, inspect"
   ]
  },
  {
   "cell_type": "code",
   "execution_count": null,
   "metadata": {},
   "outputs": [],
   "source": [
    "def start_module(module):\n",
    "    a = module()\n",
    "    return a.return_processes()\n",
    "\n",
    "modules_dict = {}\n",
    "trina_modules = reload(trina_modules)\n",
    "health_dict = {}\n",
    "\n",
    "for name, obj in inspect.getmembers(trina_modules):\n",
    "    if inspect.isclass(obj):\n",
    "        if(str(obj).find('trina_modules')):\n",
    "            print(name)\n",
    "            tmp = start_module(obj)\n",
    "            modules_dict.update({name:tmp})\n",
    "            health_dict.update({name:[True,time.time()]})\n",
    "server['health_log'] = health_dict"
   ]
  },
  {
   "cell_type": "code",
   "execution_count": null,
   "metadata": {},
   "outputs": [],
   "source": [
    "class Jarvis:\n",
    "\n",
    "    def __init__(self):\n",
    "        import trina_modules\n",
    "        self.modules_dict = {}\n",
    "        self.health_dict = {}\n",
    "\n",
    "        self.start_modules()\n",
    "        self.interface = RedisInterface(host=\"localhost\")\n",
    "        self.interface.initialize()\n",
    "        self.server = KeyValueStore(interface)\n",
    "    def start_module(self,module):\n",
    "        a = module()\n",
    "        return a.return_processes()\n",
    "\n",
    "    def start_modules(self,module_names = []):\n",
    "        import trina_modules\n",
    "        trina_modules = reload(trina_modules)\n",
    "        if(module_names == []):\n",
    "            for name, obj in inspect.getmembers(trina_modules):\n",
    "                if inspect.isclass(obj):\n",
    "                    if(str(obj).find('trina_modules')):\n",
    "                        tmp = self.start_module(obj)\n",
    "                        self.modules_dict.update({name:tmp})\n",
    "                        self.health_dict.update({name:[True,time.time()]})\n",
    "            server['health_log'] = self.health_dict                        \n",
    "        else:\n",
    "            print('starting only modules '+ str(module_names))\n",
    "            for name, obj in inspect.getmembers(trina_modules):\n",
    "                if inspect.isclass(obj):\n",
    "                    if(str(obj).find('trina_modules')):\n",
    "                        if(name in module_names):\n",
    "                            print('killing module '+ name)\n",
    "                            for pcess in self.modules_dict[name]:\n",
    "                                pcess.terminate()\n",
    "                            self.modules_dict.update({name:[]})\n",
    "                            print('restarting only module ' + name)\n",
    "                            tmp = self.start_module(obj)\n",
    "                            self.modules_dict.update({name:tmp})\n",
    "                            self.server['health_log'][name] = [True,time.time()]\n",
    "    def scream(self):\n",
    "        print('aaaaaaaaaaaaaaaaaa')"
   ]
  },
  {
   "cell_type": "code",
   "execution_count": null,
   "metadata": {
    "scrolled": true
   },
   "outputs": [],
   "source": [
    "a = Jarvis()\n",
    "# a.start_modules(['C1'])"
   ]
  },
  {
   "cell_type": "code",
   "execution_count": null,
   "metadata": {},
   "outputs": [],
   "source": [
    "for i in range(100):\n",
    "    print(a.server['health_log']['C1'].read()[1] - time.time())\n",
    "    time.sleep(4)"
   ]
  },
  {
   "cell_type": "markdown",
   "metadata": {},
   "source": [
    "# Testing command_server actual implementation\n"
   ]
  },
  {
   "cell_type": "code",
   "execution_count": null,
   "metadata": {},
   "outputs": [],
   "source": [
    "from command_server import CommandServer\n",
    "import sys, inspect\n",
    "import os\n",
    "import shlex, subprocess\n"
   ]
  },
  {
   "cell_type": "code",
   "execution_count": null,
   "metadata": {
    "scrolled": true
   },
   "outputs": [],
   "source": [
    "Jarvis = CommandServer()"
   ]
  },
  {
   "cell_type": "code",
   "execution_count": null,
   "metadata": {},
   "outputs": [],
   "source": [
    "Jarvis.shutdown_all()"
   ]
  },
  {
   "cell_type": "code",
   "execution_count": null,
   "metadata": {
    "code_folding": [
     3
    ]
   },
   "outputs": [],
   "source": [
    "import threading\n",
    "import time\n",
    "import multiprocessing\n",
    "class error_raiser:\n",
    "    def __init__(self):\n",
    "        self.raiser = multiprocessing.Process(target = self.error_creator)\n",
    "        self.regular = multiprocessing.Process(target = self.hardworker)\n",
    "        self.raiser.start()\n",
    "        self.regular.start()\n",
    "    def error_creator(self):\n",
    "        start_time = time.time()\n",
    "        while(True):\n",
    "            now = time.time()\n",
    "            print('waiting to start trouble')\n",
    "            if((now-start_time) > 5):\n",
    "                raise Exception('Timeout, punk!')\n",
    "            time.sleep(1)\n",
    "    def hardworker(self):\n",
    "        while(True):\n",
    "            print('Working Hard \\n')\n",
    "            time.sleep(1)\n",
    "    def return_processes(self):\n",
    "        return [self.raiser,self.regular]"
   ]
  },
  {
   "cell_type": "code",
   "execution_count": null,
   "metadata": {
    "scrolled": true
   },
   "outputs": [],
   "source": [
    "a = error_raiser()\n",
    "processes = a.return_processes()"
   ]
  },
  {
   "cell_type": "code",
   "execution_count": null,
   "metadata": {},
   "outputs": [],
   "source": [
    "a = [0,[2.0,3],4,1,2,3,45,2,3,'4',5,6]\n",
    "\n",
    "b = 'c = ' + str(a)\n",
    "b"
   ]
  },
  {
   "cell_type": "code",
   "execution_count": null,
   "metadata": {
    "scrolled": true
   },
   "outputs": [],
   "source": [
    "exec(b)\n",
    "c"
   ]
  },
  {
   "cell_type": "code",
   "execution_count": null,
   "metadata": {},
   "outputs": [],
   "source": [
    "c[2]"
   ]
  },
  {
   "cell_type": "markdown",
   "metadata": {},
   "source": [
    "# Testing command execution"
   ]
  },
  {
   "cell_type": "code",
   "execution_count": null,
   "metadata": {},
   "outputs": [],
   "source": [
    "from command_server import CommandServer\n",
    "from reem.connection import RedisInterface\n",
    "from reem.datatypes import KeyValueStore"
   ]
  },
  {
   "cell_type": "code",
   "execution_count": null,
   "metadata": {},
   "outputs": [],
   "source": [
    "Jarvis = CommandServer()"
   ]
  },
  {
   "cell_type": "code",
   "execution_count": null,
   "metadata": {},
   "outputs": [],
   "source": [
    "interface = RedisInterface(host=\"localhost\")\n",
    "interface.initialize()\n",
    "server = KeyValueStore(interface)"
   ]
  },
  {
   "cell_type": "code",
   "execution_count": null,
   "metadata": {},
   "outputs": [],
   "source": [
    "server['ROBOT_COMMAND'].read()\n",
    "command = [\"print('printing something nice')\",\"print('printing something mean')\",\"print('instantiating a variable')\",\n",
    "          \"self.instantiated_var = np.random.randint(1000,size = (5,5))\",\"print('printing random variable')\",\"print('this is what I instatiated',self.instantiated_var)\"]\n",
    "command_0 = [\"print('printing something of extremely high priority')\"]"
   ]
  },
  {
   "cell_type": "code",
   "execution_count": null,
   "metadata": {},
   "outputs": [],
   "source": [
    "server['ROBOT_COMMAND']['P4'] = command\n",
    "server['ROBOT_COMMAND']['P0'] = command_0\n"
   ]
  },
  {
   "cell_type": "markdown",
   "metadata": {},
   "source": [
    "# testing command sender:"
   ]
  },
  {
   "cell_type": "code",
   "execution_count": null,
   "metadata": {},
   "outputs": [],
   "source": [
    "from command_server import CommandServer\n",
    "from reem.connection import RedisInterface\n",
    "from reem.datatypes import KeyValueStore\n",
    "from motion_client_python3 import MotionClient\n",
    "from jarvis import Jarvis\n",
    "\n",
    "\n",
    "# command_server = CommandServer()\n",
    "jarvis = Jarvis('test')\n",
    "\n",
    "\n",
    "interface = RedisInterface(host=\"localhost\")\n",
    "interface.initialize()\n",
    "server = KeyValueStore(interface)\n",
    "robot_ip = 'http://localhost:8080'\n",
    "\n"
   ]
  },
  {
   "cell_type": "code",
   "execution_count": null,
   "metadata": {},
   "outputs": [],
   "source": [
    "jarvis.sensedBasePosition()"
   ]
  },
  {
   "cell_type": "code",
   "execution_count": null,
   "metadata": {},
   "outputs": [],
   "source": [
    "server['ROBOT_STATE'].read()"
   ]
  },
  {
   "cell_type": "code",
   "execution_count": null,
   "metadata": {},
   "outputs": [],
   "source": [
    "# testing string sender:\n",
    "def send_command(command,*args):\n",
    "    final_string = str(command)+ '('\n",
    "    for index,arg in enumerate(args):\n",
    "        if(index != len(args)-1):\n",
    "            final_string += '{},'\n",
    "        else:\n",
    "            final_string += '{}'\n",
    "    final_string = (final_string + ')')\n",
    "    final_string = final_string.format(*args)\n",
    "    return final_string"
   ]
  },
  {
   "cell_type": "code",
   "execution_count": null,
   "metadata": {},
   "outputs": [],
   "source": [
    "a = server['ROBOT_COMMAND'].read()\n",
    "command = [\"print('printing something nice')\",\"print('printing something mean')\",\"print('instantiating a variable')\",\n",
    "          \"self.instantiated_var = np.random.randint(1000,size = (5,5))\",\"print('printing random variable')\",\"print('this is what I instatiated',self.instantiated_var)\"]\n",
    "command_0 = [\"print('printing something of extremely high priority')\"]"
   ]
  },
  {
   "cell_type": "code",
   "execution_count": null,
   "metadata": {},
   "outputs": [],
   "source": [
    "server['ROBOT_COMMAND']['C1'] = command\n",
    "server['ROBOT_COMMAND']['C2'] = command_0\n"
   ]
  },
  {
   "cell_type": "code",
   "execution_count": null,
   "metadata": {},
   "outputs": [],
   "source": [
    "import numpy as np\n",
    "queue = server['ROBOT_COMMAND']['P0'].read()\n",
    "queue.append((send_command('self.robot.setBaseVelocity','[1,2]')))\n",
    "server['ROBOT_COMMAND']['P0'] = queue\n"
   ]
  },
  {
   "cell_type": "code",
   "execution_count": null,
   "metadata": {},
   "outputs": [],
   "source": [
    "send_command('self.robot.setBaseVelocity','[1,2]')"
   ]
  },
  {
   "cell_type": "code",
   "execution_count": null,
   "metadata": {},
   "outputs": [],
   "source": [
    "server['ROBOT_COMMAND']['P0'].read()"
   ]
  },
  {
   "cell_type": "code",
   "execution_count": null,
   "metadata": {},
   "outputs": [],
   "source": [
    "server['ROBOT_STATE'].read()"
   ]
  },
  {
   "cell_type": "code",
   "execution_count": null,
   "metadata": {},
   "outputs": [],
   "source": [
    "Jarvis.query_robot.sensedLeftEETransform()"
   ]
  },
  {
   "cell_type": "code",
   "execution_count": null,
   "metadata": {},
   "outputs": [],
   "source": [
    "robot = MotionClient(address = robot_ip)\n",
    "robot.startServer(mode = 'Kinematic', components = [],codename = 'anthrax_lowpoly')\n",
    "robot.startup()\n"
   ]
  },
  {
   "cell_type": "markdown",
   "metadata": {},
   "source": [
    "# Testing independent Process Creation"
   ]
  },
  {
   "cell_type": "code",
   "execution_count": null,
   "metadata": {},
   "outputs": [],
   "source": [
    "import os, shlex,subprocess\n",
    "pi\n",
    "def start_redis():\n",
    "        print('starting redis')\n",
    "        origWD = os.getcwd() # remember our original working directory\n",
    "        #setting up the start of the redis server\n",
    "        redis_server_path = os.path.expanduser('~/database-server/redis-5.0.4/src/redis-server')\n",
    "        redis_conf_path = os.path.expanduser('~/database-server/redis.conf')\n",
    "        redis_folder = os.path.expanduser('~/database-server')\n",
    "        command_string = '{} {}'.format(redis_server_path,redis_conf_path)\n",
    "        os.chdir(redis_folder)\n",
    "        args = shlex.split(command_string)\n",
    "        redis_process = subprocess.Popen(args,start_new_session= True)\n",
    "\n",
    "        # reverting back to trina directory\n",
    "        os.chdir(origWD)"
   ]
  },
  {
   "cell_type": "code",
   "execution_count": null,
   "metadata": {},
   "outputs": [],
   "source": [
    "from reem.connection import RedisInterface\n",
    "from reem.datatypes import KeyValueStore\n",
    "\n",
    "# start_redis()\n",
    "\n",
    "interface = RedisInterface(host=\"localhost\")\n",
    "interface.initialize()\n",
    "server = KeyValueStore(interface)\n",
    "robot_ip = 'http://localhost:8080'\n",
    "\n"
   ]
  },
  {
   "cell_type": "code",
   "execution_count": null,
   "metadata": {},
   "outputs": [],
   "source": [
    "server[\"ACTIVITY_STATUS\"]['PointClickNav'] = 'active'"
   ]
  },
  {
   "cell_type": "code",
   "execution_count": null,
   "metadata": {},
   "outputs": [],
   "source": [
    "server[\"UI_FEEDBACK\"].read()"
   ]
  },
  {
   "cell_type": "code",
   "execution_count": null,
   "metadata": {},
   "outputs": [],
   "source": [
    "import threading\n",
    "import time\n",
    "def aaaa():\n",
    "    while(True):\n",
    "        print('AAAAA')\n",
    "        time.sleep(10)\n",
    "a = threading.Thread(target =aaaa)\n",
    "a.start()"
   ]
  },
  {
   "cell_type": "code",
   "execution_count": null,
   "metadata": {},
   "outputs": [],
   "source": [
    "a._Thread__stop()"
   ]
  },
  {
   "cell_type": "code",
   "execution_count": null,
   "metadata": {},
   "outputs": [],
   "source": []
  },
  {
   "cell_type": "markdown",
   "metadata": {},
   "source": [
    "# Testing jarvis with sensor module"
   ]
  },
  {
   "cell_type": "code",
   "execution_count": null,
   "metadata": {},
   "outputs": [],
   "source": [
    "from jarvis import Jarvis\n",
    "from command_server import CommandServer\n",
    "\n",
    "# k = CommandServer()"
   ]
  },
  {
   "cell_type": "code",
   "execution_count": null,
   "metadata": {},
   "outputs": [],
   "source": [
    "jarvis = Jarvis(name = 'C2')"
   ]
  },
  {
   "cell_type": "code",
   "execution_count": null,
   "metadata": {},
   "outputs": [],
   "source": [
    "jarvis.setBaseVelocity([-1,0])"
   ]
  },
  {
   "cell_type": "code",
   "execution_count": null,
   "metadata": {},
   "outputs": [],
   "source": [
    "jarvis.sensedRobotq()"
   ]
  },
  {
   "cell_type": "code",
   "execution_count": null,
   "metadata": {},
   "outputs": [],
   "source": [
    "from sensorModule2 import Camera_Robot\n",
    "from klampt import WorldModel\n",
    "from motion_client_python3 import MotionClient\n",
    "import time"
   ]
  },
  {
   "cell_type": "code",
   "execution_count": null,
   "metadata": {},
   "outputs": [],
   "source": [
    "world = WorldModel()\n",
    "world.readFile('./data/TRINA_world_anthrax_PointClick.xml')\n",
    "robot = MotionClient(\"http://localhost:8080\")\n",
    "robot.startServer(mode = 'Kinematic', components = [],codename = 'anthrax_lowpoly')\n",
    "a = robot.startup()\n",
    "print(a)\n",
    "sensor_module = Camera_Robot(robot = robot,world = world)"
   ]
  },
  {
   "cell_type": "code",
   "execution_count": null,
   "metadata": {},
   "outputs": [],
   "source": [
    "a = sensor_module.left_cam.getMeasurements()"
   ]
  },
  {
   "cell_type": "code",
   "execution_count": null,
   "metadata": {},
   "outputs": [],
   "source": [
    "%%time\n",
    "while(True):\n",
    "    start = time.time()\n",
    "    sensor_module.get_rgbd_images()\n",
    "    print(time.time()-start)\n",
    "    time.sleep(0.005)"
   ]
  },
  {
   "cell_type": "markdown",
   "metadata": {},
   "source": [
    "# Testing Atomic Command pushing"
   ]
  },
  {
   "cell_type": "code",
   "execution_count": 3,
   "metadata": {},
   "outputs": [],
   "source": [
    "import redis\n",
    "class TrinaQueue(object):\n",
    "    def __init__(self,key, host = 'localhost', port = 6379):\n",
    "        self.r = redis.Redis(host = host, port = port)\n",
    "        self.key = key\n",
    "    def push(self,item):\n",
    "        self.r.rpush(self.key,item)\n",
    "\n",
    "class TrinaQueueReader(object):\n",
    "    def __init__(self, host = 'localhost', port = 6379):\n",
    "        self.r = redis.Redis(host = host, port = port)\n",
    "    def read(self,key):\n",
    "        with self.r.pipeline() as pipe:\n",
    "            times = self.r.llen(key)\n",
    "            for i in range(times):\n",
    "                pipe.lpop(key)\n",
    "            res = pipe.execute()\n",
    "        return res"
   ]
  },
  {
   "cell_type": "code",
   "execution_count": 4,
   "metadata": {},
   "outputs": [],
   "source": [
    "for i in range(0):\n",
    "    print(i)"
   ]
  },
  {
   "cell_type": "code",
   "execution_count": 6,
   "metadata": {},
   "outputs": [
    {
     "data": {
      "text/plain": [
       "[b\"self.switch_module_activity(['PointClickNav'],[])\",\n",
       " b\"self.switch_module_activity(['DirectTeleOperation'],[])\",\n",
       " b\"self.switch_module_activity(['PointClickNav'],[])\",\n",
       " b\"self.switch_module_activity(['DirectTeleOperation'],[])\",\n",
       " b\"self.switch_module_activity(['PointClickNav'],[])\",\n",
       " b\"self.switch_module_activity(['DirectTeleOperation'],[])\",\n",
       " b\"self.switch_module_activity(['PointClickNav'],[])\",\n",
       " b\"self.switch_module_activity(['DirectTeleOperation'],[])\"]"
      ]
     },
     "execution_count": 6,
     "metadata": {},
     "output_type": "execute_result"
    }
   ],
   "source": [
    "reader = TrinaQueueReader()\n",
    "reader.read('UI')"
   ]
  },
  {
   "cell_type": "code",
   "execution_count": 31,
   "metadata": {},
   "outputs": [
    {
     "data": {
      "text/plain": [
       "True"
      ]
     },
     "execution_count": 31,
     "metadata": {},
     "output_type": "execute_result"
    }
   ],
   "source": [
    "1.0//5 == 0"
   ]
  }
 ],
 "metadata": {
  "kernelspec": {
   "display_name": "Python 2",
   "language": "python",
   "name": "python2"
  },
  "language_info": {
   "codemirror_mode": {
    "name": "ipython",
    "version": 3
   },
   "file_extension": ".py",
   "mimetype": "text/x-python",
   "name": "python",
   "nbconvert_exporter": "python",
   "pygments_lexer": "ipython3",
   "version": "3.6.9"
  },
  "toc": {
   "base_numbering": 1,
   "nav_menu": {},
   "number_sections": true,
   "sideBar": true,
   "skip_h1_title": false,
   "title_cell": "Table of Contents",
   "title_sidebar": "Contents",
   "toc_cell": false,
   "toc_position": {},
   "toc_section_display": true,
   "toc_window_display": false
  },
  "varInspector": {
   "cols": {
    "lenName": 16,
    "lenType": 16,
    "lenVar": 40
   },
   "kernels_config": {
    "python": {
     "delete_cmd_postfix": "",
     "delete_cmd_prefix": "del ",
     "library": "var_list.py",
     "varRefreshCmd": "print(var_dic_list())"
    },
    "r": {
     "delete_cmd_postfix": ") ",
     "delete_cmd_prefix": "rm(",
     "library": "var_list.r",
     "varRefreshCmd": "cat(var_dic_list()) "
    }
   },
   "types_to_exclude": [
    "module",
    "function",
    "builtin_function_or_method",
    "instance",
    "_Feature"
   ],
   "window_display": false
  }
 },
 "nbformat": 4,
 "nbformat_minor": 4
}
