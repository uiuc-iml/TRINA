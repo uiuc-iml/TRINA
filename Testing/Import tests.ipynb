{
 "cells": [
  {
   "cell_type": "code",
   "execution_count": null,
   "metadata": {},
   "outputs": [],
   "source": [
    "from imp import reload \n",
    "import trina_modules\n",
    "import time\n",
    "import multiprocessing\n",
    "# reload(trina_modules)"
   ]
  },
  {
   "cell_type": "markdown",
   "metadata": {},
   "source": [
    "# Testing dynamic imports:"
   ]
  },
  {
   "cell_type": "code",
   "execution_count": null,
   "metadata": {},
   "outputs": [],
   "source": [
    "import sys, inspect, os\n",
    "\n",
    "\n",
    "for name, obj in inspect.getmembers(trina_modules):\n",
    "\n",
    "    if inspect.isclass(obj):\n",
    "#         print(name)\n",
    "        if(str(obj).find('trina_modules') != -1):\n",
    "            print(name)\n",
    "#             tmp = self.start_module(obj,name)\n",
    "#             self.modules_dict.update({name:tmp})\n",
    "#             self.health_dict.update({name:[True,time.time()]})\n",
    "#             activity_dict.update({name:False})\n",
    "#             command_dict.update({name:[]})\n"
   ]
  },
  {
   "cell_type": "markdown",
   "metadata": {},
   "source": [
    "# Testing Process-based control:\n"
   ]
  },
  {
   "cell_type": "code",
   "execution_count": null,
   "metadata": {},
   "outputs": [],
   "source": [
    "from importlib import reload \n",
    "import trina_modules\n",
    "import time\n",
    "import multiprocessing\n"
   ]
  },
  {
   "cell_type": "code",
   "execution_count": null,
   "metadata": {},
   "outputs": [],
   "source": [
    "import sys, inspect\n",
    "\n",
    "\n",
    "def start_module(module):\n",
    "    a = module()\n",
    "    return a.return_processes()\n",
    "\n",
    "modules_dict = {}\n",
    "trina_modules = reload(trina_modules)\n",
    "for name, obj in inspect.getmembers(trina_modules):\n",
    "    if inspect.isclass(obj):\n",
    "        tmp = start_module(obj)\n",
    "        modules_dict.update({name:tmp})\n",
    "print(modules_dict)\n"
   ]
  },
  {
   "cell_type": "code",
   "execution_count": null,
   "metadata": {},
   "outputs": [],
   "source": [
    "modules_dict['C1'][1].terminate()"
   ]
  },
  {
   "cell_type": "code",
   "execution_count": null,
   "metadata": {},
   "outputs": [],
   "source": [
    "modules_dict['C2'][1].terminate()"
   ]
  }
 ],
 "metadata": {
  "kernelspec": {
   "display_name": "Python 2",
   "language": "python",
   "name": "python2"
  },
  "language_info": {
   "codemirror_mode": {
    "name": "ipython",
    "version": 2
   },
   "file_extension": ".py",
   "mimetype": "text/x-python",
   "name": "python",
   "nbconvert_exporter": "python",
   "pygments_lexer": "ipython2",
   "version": "2.7.17"
  },
  "toc": {
   "base_numbering": 1,
   "nav_menu": {},
   "number_sections": true,
   "sideBar": true,
   "skip_h1_title": false,
   "title_cell": "Table of Contents",
   "title_sidebar": "Contents",
   "toc_cell": false,
   "toc_position": {},
   "toc_section_display": true,
   "toc_window_display": false
  }
 },
 "nbformat": 4,
 "nbformat_minor": 4
}
