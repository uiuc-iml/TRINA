{
 "cells": [
  {
   "cell_type": "markdown",
   "metadata": {},
   "source": [
    "# Preparation\n",
    "The pre-requisites for the command server to work properly is that there must be a motion_server.py running, REEM state server (state_server.py), and Command Server (command_server.py)\n",
    "\n",
    "Open 3 console windows, and run\n",
    "\n",
    "```\n",
    "cd ~/TRINA/Motion; python3 motion_server.py\n",
    "```\n",
    "\n",
    "in one window,\n",
    "\n",
    "```\n",
    "cd ~/TRINA; python3 trina/state_server.py\n",
    "```\n",
    "\n",
    "in another, and \n",
    "\n",
    "```\n",
    "cd ~/TRINA; python3 trina/command_server.py\n",
    "```\n",
    "in a third.\n",
    "\n",
    "(an alternative is to use the redrun script `redrun redrun_config.json`, but doing this manually will help you understand the different pieces going on.)\n"
   ]
  },
  {
   "cell_type": "markdown",
   "metadata": {},
   "source": [
    "# Imports\n",
    "Import both Jarvis and command_server (you won't need to import command server usually, as it should be always be running on TRINA_GPU, but if you're doing a local test, it has to be imported and instantiated)"
   ]
  },
  {
   "cell_type": "code",
   "execution_count": 1,
   "metadata": {},
   "outputs": [],
   "source": [
    "#set up the system path so it contains ~/TRINA\n",
    "import sys\n",
    "import os\n",
    "import time\n",
    "sys.path.append(os.path.expanduser(\"~/TRINA\"))"
   ]
  },
  {
   "cell_type": "code",
   "execution_count": 2,
   "metadata": {},
   "outputs": [],
   "source": [
    "import trina\n",
    "from trina import jarvis"
   ]
  },
  {
   "cell_type": "markdown",
   "metadata": {},
   "source": [
    "# Instantiate Jarvis and command server\n",
    "\n",
    "Same thing here, on real trina, you only need to import jarvis, as the command_server would always be running"
   ]
  },
  {
   "cell_type": "code",
   "execution_count": null,
   "metadata": {},
   "outputs": [],
   "source": [
    "# command_server = CommandServer()\n",
    "\n",
    "#if you create your own Jarvis instance, then it will only have basic hooks to the robot and ui apis.\n",
    "#- robot is a MotionAPI instance (see trina/modules/Motion/api.py)\n",
    "#- ui is a UIAPI instance (see trina/modules/UI/api.py)\n",
    "jv = jarvis.Jarvis('testing')\n",
    "\n",
    "#By default, Command Server will be checking the health of modules\n",
    "jv.enableHealthChecks(False)"
   ]
  },
  {
   "cell_type": "code",
   "execution_count": null,
   "metadata": {},
   "outputs": [],
   "source": [
    "print(jv.server['ACTIVITY_STATUS'].read())\n",
    "print(jv.server['HEALTH_LOG'].read())\n"
   ]
  },
  {
   "cell_type": "code",
   "execution_count": null,
   "metadata": {},
   "outputs": [],
   "source": [
    "jv.robot.sensedRobotq()"
   ]
  },
  {
   "cell_type": "code",
   "execution_count": null,
   "metadata": {},
   "outputs": [],
   "source": [
    "\n",
    "# # for i in a.keys():\n",
    "# #     k = jv.server['ACTIVITY_STATUS'][i]\n",
    "print(jv.server['ROBOT_INFO'].read())\n",
    "# test.changeActivityStatus([str('C2')])\n",
    "print(jv.server['UI_STATE'].read())\n",
    "\n",
    "# print(jv.server['ROBOT_COMMAND'].read())\n",
    "# time.sleep(0.01)\n",
    "\n"
   ]
  },
  {
   "cell_type": "markdown",
   "metadata": {},
   "source": [
    "## Motion commands\n",
    "\n",
    "If you'd like to see the robot move, run in a new command line window\n",
    "\n",
    "```\n",
    "cd ~/TRINA; python3 Debugging/state_visualizer.py\n",
    "```\n",
    "\n",
    "And then run the below code"
   ]
  },
  {
   "cell_type": "code",
   "execution_count": null,
   "metadata": {
    "scrolled": true
   },
   "outputs": [],
   "source": [
    "\n",
    "#move forward a little\n",
    "for i in range(10):\n",
    "    jv.robot.setBaseVelocity([(5-abs(4-i))*0.1,1])\n",
    "    time.sleep(0.2)\n",
    "\n",
    "for i in range(10):\n",
    "    jv.robot.setBaseVelocity([-(5-abs(4-i))*0.1,1])\n",
    "    time.sleep(0.2)\n",
    "\n",
    "jv.robot.setBaseVelocity([0,0])\n",
    "#     j3.setBaseVelocity([0,1])\n"
   ]
  },
  {
   "cell_type": "markdown",
   "metadata": {},
   "source": [
    "# Getting more from Jarvis in scripts / IPython\n",
    "\n",
    "Modules can get much more from Jarvis, such as using shared memory objects from various Jarvis APIs, e.g., the Sensor module. \n",
    "\n",
    "The tricky part, however, is that you will have to run the CommandServer object in your own code, rather than the command line. **Make sure to terminate the existing process running command_server.py before you run the code below**.\n",
    "\n",
    "Then, make a dummy module to get a properly initialized Jarvis instance.  CommandServer will automatically spawn several threads to serve requests across the system.  In Jupyter, these threads will be run automatically in the background so you can interact with the Jarvis instance."
   ]
  },
  {
   "cell_type": "code",
   "execution_count": 3,
   "metadata": {
    "scrolled": true
   },
   "outputs": [
    {
     "name": "stdout",
     "output_type": "stream",
     "text": [
      "\n",
      "\n",
      " Starting New Modules:['Motion', 'Sensor', 'Example']\n",
      "\n",
      "\n",
      "\n",
      "  Starting module Motion ...\n",
      "\n",
      "\n",
      "\n",
      "\n",
      "\n",
      "\n",
      "\n",
      " Initializing robot states\n",
      "\n",
      "\n",
      "\n",
      "  Starting module Sensor ...\n",
      "\n",
      "\n",
      "\n",
      "\n",
      "SensorModule: ROS support requested, but rospy could not be imported\n",
      "\n",
      "\n",
      "\n",
      "\n",
      "Updating simulated camera realsense_right to match calibration in TRINA/Settings/\n",
      "Updating simulated camera realsense_left to match calibration in TRINA/Settings/\n",
      "\n",
      "\n",
      "\n",
      "  Starting module Example ...\n",
      "\n",
      "\n",
      "\n",
      "(localhost,) {}\n"
     ]
    }
   ],
   "source": [
    "if 'server' in globals():\n",
    "    server.shutdown_all()\n",
    "from trina.command_server import CommandServer\n",
    "server = CommandServer(['Motion','Sensor','Example'])\n",
    "jv2 = server.start_dummy_module('testing2')"
   ]
  },
  {
   "cell_type": "markdown",
   "metadata": {},
   "source": [
    "## Example module\n",
    "We can start seeing how to interact with APIs using the Example module."
   ]
  },
  {
   "cell_type": "code",
   "execution_count": null,
   "metadata": {},
   "outputs": [],
   "source": [
    "print([fn for fn in dir(jv2.example) if not fn.startswith('_')])"
   ]
  },
  {
   "cell_type": "code",
   "execution_count": null,
   "metadata": {},
   "outputs": [],
   "source": [
    "result = jv2.example.add(3,5)\n",
    "print(result)  #we get a Promise object\n",
    "print(result.await())  #this waits until the Promise results are available"
   ]
  },
  {
   "cell_type": "markdown",
   "metadata": {},
   "source": [
    "Another way to get RPC results is through polling.  How quickly the result gets here depends on how quickly the Example module polls the State Server."
   ]
  },
  {
   "cell_type": "code",
   "execution_count": null,
   "metadata": {},
   "outputs": [],
   "source": [
    "result = jv2.example.sin([0.1,0.2,0.3,0.4,0.5])\n",
    "while not result:\n",
    "    print(\"Polling...\")\n",
    "    time.sleep(0.01)\n",
    "print(\"Result\",result.value())"
   ]
  },
  {
   "cell_type": "markdown",
   "metadata": {},
   "source": [
    "## Sensor module\n",
    "\n",
    "When the Sensor module is run (in kinematic mode), `jarvis.sensor` contains a SensorAPI object.  See `trina/modules/Sensors/api.py` for detailed documentation."
   ]
  },
  {
   "cell_type": "code",
   "execution_count": null,
   "metadata": {},
   "outputs": [],
   "source": [
    "print([fn for fn in dir(jv2.sensors) if not fn.startswith('_')])"
   ]
  },
  {
   "cell_type": "code",
   "execution_count": 4,
   "metadata": {},
   "outputs": [],
   "source": [
    "images = jv2.sensors.getNextRgbdImages().await()"
   ]
  },
  {
   "cell_type": "code",
   "execution_count": 5,
   "metadata": {},
   "outputs": [
    {
     "name": "stdout",
     "output_type": "stream",
     "text": [
      "dict_keys(['l515_torso', 'zed_head', 'realsense_left', 'realsense_right'])\n"
     ]
    }
   ],
   "source": [
    "print(images.keys())"
   ]
  },
  {
   "cell_type": "code",
   "execution_count": 6,
   "metadata": {},
   "outputs": [
    {
     "data": {
      "image/png": "[encoded data removed]",
      "text/plain": [
       "<Figure size 432x288 with 1 Axes>"
      ]
     },
     "metadata": {
      "needs_background": "light"
     },
     "output_type": "display_data"
    },
    {
     "data": {
      "image/png": "[encoded data removed]",
      "text/plain": [
       "<Figure size 432x288 with 1 Axes>"
      ]
     },
     "metadata": {
      "needs_background": "light"
     },
     "output_type": "display_data"
    }
   ],
   "source": [
    "%matplotlib inline\n",
    "from matplotlib import pyplot as plt\n",
    "#here are the color and depth images\n",
    "plt.imshow(images['realsense_right'][0])\n",
    "plt.show()\n",
    "plt.imshow(images['realsense_right'][1])\n",
    "plt.show()"
   ]
  },
  {
   "cell_type": "code",
   "execution_count": null,
   "metadata": {
    "scrolled": false
   },
   "outputs": [],
   "source": [
    "scan = jv2.sensors.getLidarScan()\n",
    "plt.plot(scan)\n",
    "plt.show()"
   ]
  },
  {
   "cell_type": "code",
   "execution_count": 7,
   "metadata": {},
   "outputs": [
    {
     "name": "stdout",
     "output_type": "stream",
     "text": [
      "Angle range -1.91986 1.91986\n",
      "Disance range 1.28 25.0\n"
     ]
    }
   ],
   "source": [
    "lidar_pc = jv2.sensors.getLidarPointCloud()"
   ]
  },
  {
   "cell_type": "code",
   "execution_count": 10,
   "metadata": {},
   "outputs": [
    {
     "data": {
      "image/png": "[encoded data removed]",
      "text/plain": [
       "<Figure size 432x288 with 1 Axes>"
      ]
     },
     "metadata": {
      "needs_background": "light"
     },
     "output_type": "display_data"
    }
   ],
   "source": [
    "plt.plot(lidar_pc[:,0],lidar_pc[:,1])\n",
    "plt.xlim(-3,3)\n",
    "plt.ylim(-3,3)\n",
    "plt.show()"
   ]
  },
  {
   "cell_type": "markdown",
   "metadata": {},
   "source": [
    "## Extra debugging\n",
    "\n",
    "If things aren't going well, perhaps you should check out the redis server using `redis-cli` or some other redis server snooping tool"
   ]
  },
  {
   "cell_type": "code",
   "execution_count": null,
   "metadata": {},
   "outputs": [],
   "source": []
  }
 ],
 "metadata": {
  "kernelspec": {
   "display_name": "Python 3.5.2 64-bit",
   "language": "python",
   "name": "python35264bit6d7220a59801483b8e9b5c82d7474dea"
  },
  "language_info": {
   "codemirror_mode": {
    "name": "ipython",
    "version": 3
   },
   "file_extension": ".py",
   "mimetype": "text/x-python",
   "name": "python",
   "nbconvert_exporter": "python",
   "pygments_lexer": "ipython3",
   "version": "3.5.2"
  },
  "latex_envs": {
   "LaTeX_envs_menu_present": true,
   "autoclose": false,
   "autocomplete": true,
   "bibliofile": "biblio.bib",
   "cite_by": "apalike",
   "current_citInitial": 1,
   "eqLabelWithNumbers": true,
   "eqNumInitial": 1,
   "hotkeys": {
    "equation": "Ctrl-E",
    "itemize": "Ctrl-I"
   },
   "labels_anchors": false,
   "latex_user_defs": false,
   "report_style_numbering": false,
   "user_envs_cfg": false
  },
  "toc": {
   "base_numbering": 1,
   "nav_menu": {},
   "number_sections": true,
   "sideBar": true,
   "skip_h1_title": false,
   "title_cell": "Table of Contents",
   "title_sidebar": "Contents",
   "toc_cell": false,
   "toc_position": {},
   "toc_section_display": true,
   "toc_window_display": false
  }
 },
 "nbformat": 4,
 "nbformat_minor": 2
}
