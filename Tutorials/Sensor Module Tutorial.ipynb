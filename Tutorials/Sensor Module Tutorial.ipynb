{
 "cells": [
  {
   "cell_type": "code",
   "execution_count": null,
   "metadata": {},
   "outputs": [],
   "source": [
    "# from platform import python_version\n",
    "# !pip install pyyaml\n",
    "# print(python_version())\n",
    "# !pip install tqdm\n",
    "# !pip install wurlitzer\n",
    "# !pip install opencv-python\n"
   ]
  },
  {
   "cell_type": "code",
   "execution_count": null,
   "metadata": {},
   "outputs": [],
   "source": [
    "%load_ext wurlitzer\n",
    "\n",
    "import atexit\n",
    "import numpy as np\n",
    "import open3d as o3d\n",
    "import pickle\n",
    "import klampt\n",
    "import numpy\n",
    "import time\n",
    "from klampt.math import se3\n",
    "from motion_client import MotionClient\n",
    "from klampt import vis, Geometry3D\n",
    "from klampt.model import sensing\n",
    "from OpenGL.GLUT import *\n",
    "from threading import Thread\n",
    "from klampt import sim\n",
    "from tqdm import tqdm\n",
    "from trina_modules.SensorModule import Camera_Robot\n",
    "from Settings import trina_settings"
   ]
  },
  {
   "cell_type": "markdown",
   "metadata": {},
   "source": [
    "# This is just Yifan´s world creation tool - copied it here so I wouldn't have to merge the repos prematurely. "
   ]
  },
  {
   "cell_type": "code",
   "execution_count": null,
   "metadata": {},
   "outputs": [],
   "source": [
    "from Models.world_builder import testingWorldBuilder"
   ]
  },
  {
   "cell_type": "code",
   "execution_count": null,
   "metadata": {},
   "outputs": [],
   "source": [
    "robot = MotionClient(address = trina_settings.motion_server_addr())  #same as 'auto'\n",
    "startup = True\n",
    "res = robot.startup()\n",
    "\n",
    "sim_world_fn = trina_settings.simulation_world_file()\n",
    "world = WorldModel()\n",
    "world.readFile(sim_world_fn)\n",
    "\n",
    "builder = testingWorldBuilder(30,30,world = world)\n",
    "builder.addTableTopScenario(x = 1.5,y = 1.0)\n",
    "world = builder.getWorld()\n",
    "\n",
    "time.sleep(1)\n",
    "\n",
    "# vis.add('world',world)\n",
    "\n",
    "leftUntuckedConfig = trina_settings.left_arm_config('untucked')\n",
    "rightUntuckedConfig = robot.mirror_arm_config(leftUntuckedConfig)\n",
    "robot.setLeftLimbPositionLinear(leftUntuckedConfig,2)\n",
    "robot.setRightLimbPositionLinear(rightUntuckedConfig,2)"
   ]
  },
  {
   "cell_type": "code",
   "execution_count": null,
   "metadata": {},
   "outputs": [],
   "source": [
    "vis.add(\"world\",world)\n",
    "vis.show()\n"
   ]
  },
  {
   "cell_type": "code",
   "execution_count": null,
   "metadata": {
    "scrolled": true
   },
   "outputs": [],
   "source": [
    "global crobot\n",
    "crobot = Camera_Robot(robot = robot,world = world,ros_active = False)\n",
    "\n",
    "# after starting the sensor module, we then refresh our motion_client to avoid conflics:\n",
    "robot2 = MotionClient(address = 'auto')\n",
    "\n",
    "robot2.setLeftLimbPositionLinear([0,0,0,0,0,0],1)"
   ]
  },
  {
   "cell_type": "code",
   "execution_count": null,
   "metadata": {},
   "outputs": [],
   "source": [
    "%matplotlib \n",
    "#calling it a second time may prevent some graphics errors\n",
    "%matplotlib   \n",
    "\n",
    "\n",
    "from matplotlib import pyplot as  plt\n",
    "import matplotlib.animation as animation\n",
    "\n",
    "def visualize_sensor_feeds():\n",
    "    \n",
    "    fig = plt.figure()\n",
    "\n",
    "    a = crobot.get_rgbd_images()\n",
    "\n",
    "\n",
    "    # im = plt.imshow(a['realsense_left'][0], animated=True)\n",
    "\n",
    "    #create two subplots\n",
    "    ax1 = plt.subplot(1,2,1)\n",
    "    ax2 = plt.subplot(1,2,2)\n",
    "\n",
    "    im1 = ax1.imshow(a['realsense_left'][0],animated = True)\n",
    "    im2 = ax2.imshow(a['realsense_right'][0],animated = True)\n",
    "\n",
    "\n",
    "    def updatefig(*args):\n",
    "        global crobot\n",
    "        try:\n",
    "            a = crobot.get_rgbd_images()\n",
    "            im1.set_array(a['realsense_left'][0])\n",
    "            im2.set_array(a['realsense_right'][0])\n",
    "#             print('updating')\n",
    "            return im1,im2\n",
    "        except Exception as e:\n",
    "            print(e)\n",
    "\n",
    "    ani = animation.FuncAnimation(fig, updatefig, interval=100, blit=True)\n",
    "    plt.show()\n",
    "    return ani"
   ]
  },
  {
   "cell_type": "code",
   "execution_count": null,
   "metadata": {
    "scrolled": false
   },
   "outputs": [],
   "source": [
    "## call this function before executing your commands and you will be able to see the \"live \" feed from your ca\n",
    "## mera sensors.\n",
    "\n",
    "visualize_sensor_feeds()"
   ]
  },
  {
   "cell_type": "code",
   "execution_count": null,
   "metadata": {},
   "outputs": [],
   "source": [
    "robot2 = MotionClient(address = 'auto')\n",
    "\n",
    "robot2.setLeftLimbPositionLinear([0,0,0,0,0,0],1)\n",
    "\n",
    "robot2.setLeftLimbPositionLinear([0,0,0,0,0,0],5)\n",
    "robot2.setRightLimbPositionLinear([0,0,0,0,0,0],5)"
   ]
  },
  {
   "cell_type": "code",
   "execution_count": null,
   "metadata": {
    "scrolled": true
   },
   "outputs": [],
   "source": [
    "robot2.setLeftLimbPositionLinear(leftUntuckedConfig,5)\n",
    "robot2.setRightLimbPositionLinear(rightUntuckedConfig,5)\n"
   ]
  },
  {
   "cell_type": "code",
   "execution_count": null,
   "metadata": {},
   "outputs": [],
   "source": [
    "a = crobot.get_point_clouds()\n",
    "\n",
    "pcd = a['realsense_left']\n",
    "mesh_frame = o3d.geometry.TriangleMesh.create_coordinate_frame(\n",
    "        size=0.6, origin=[0,0,0])\n",
    "o3d.visualization.draw_geometries([pcd,mesh_frame])\n",
    "# plt.imshow(a['realsense_left'])\n",
    "# plt.show()"
   ]
  },
  {
   "cell_type": "code",
   "execution_count": null,
   "metadata": {},
   "outputs": [],
   "source": [
    "%matplotlib notebook\n",
    "#calling it a second time may prevent some graphics errors\n",
    "%matplotlib notebook  \n",
    "\n",
    "\n",
    "from matplotlib import pyplot as  plt\n",
    "import matplotlib.animation as animation\n",
    "\n",
    "fig = plt.figure()\n",
    "\n",
    "\n",
    "def f(x, y):\n",
    "    return np.sin(x) + np.cos(y)\n",
    "\n",
    "x = np.linspace(0, 2 * np.pi, 120)\n",
    "y = np.linspace(0, 2 * np.pi, 100).reshape(-1, 1)\n",
    "\n",
    "im = plt.imshow(f(x, y), animated=True)\n",
    "\n",
    "\n",
    "def updatefig(*args):\n",
    "    global x, y\n",
    "    x += np.pi / 15.\n",
    "    y += np.pi / 20.\n",
    "    im.set_array(f(x, y))\n",
    "    print('updating')\n",
    "    return im,\n",
    "\n",
    "ani = animation.FuncAnimation(fig, updatefig, interval=50, blit=True)\n",
    "plt.show()"
   ]
  },
  {
   "cell_type": "code",
   "execution_count": null,
   "metadata": {},
   "outputs": [],
   "source": [
    "a = 0 "
   ]
  },
  {
   "cell_type": "code",
   "execution_count": null,
   "metadata": {
    "scrolled": true
   },
   "outputs": [],
   "source": [
    "leftUntuckedConfig = trina_settings.left_arm_config('untucked')\n",
    "rightUntuckedConfig = robot.mirror_arm_config(leftUntuckedConfig)\n",
    "# print('right_Untucked',rightUntuckedConfig)\n",
    "# robot.setLeftLimbPositionLinear(leftUntuckedConfig,2)\n",
    "# robot.setRightLimbPositionLinear(rightUntuckedConfig,2)\n",
    "for i in tqdm(range(300)):\n",
    "    a = crobot.get_rgbd_images()\n",
    "    plt.imshow(a['realsense_left'][0])\n",
    "    plt.show()"
   ]
  },
  {
   "cell_type": "code",
   "execution_count": null,
   "metadata": {
    "scrolled": true
   },
   "outputs": [],
   "source": [
    "a = crobot.get_rgbd_images()\n",
    "plt.imshow(a['realsense_left'][0])\n",
    "plt.show()"
   ]
  },
  {
   "cell_type": "code",
   "execution_count": null,
   "metadata": {},
   "outputs": [],
   "source": [
    "robot.sensedLeftEETransform()"
   ]
  },
  {
   "cell_type": "code",
   "execution_count": null,
   "metadata": {},
   "outputs": [],
   "source": [
    "a['realsense_left'][0]"
   ]
  },
  {
   "cell_type": "code",
   "execution_count": null,
   "metadata": {},
   "outputs": [],
   "source": [
    "from math import atan2\n",
    "import math\n",
    "atan2(-1,0)/math.pi"
   ]
  },
  {
   "cell_type": "code",
   "execution_count": null,
   "metadata": {},
   "outputs": [],
   "source": [
    "atan2(-1,-1)/math.pi"
   ]
  }
 ],
 "metadata": {
  "kernelspec": {
   "display_name": "Python 2",
   "language": "python",
   "name": "python2"
  },
  "language_info": {
   "codemirror_mode": {
    "name": "ipython",
    "version": 2
   },
   "file_extension": ".py",
   "mimetype": "text/x-python",
   "name": "python",
   "nbconvert_exporter": "python",
   "pygments_lexer": "ipython2",
   "version": "2.7.12"
  },
  "latex_envs": {
   "LaTeX_envs_menu_present": true,
   "autoclose": false,
   "autocomplete": true,
   "bibliofile": "biblio.bib",
   "cite_by": "apalike",
   "current_citInitial": 1,
   "eqLabelWithNumbers": true,
   "eqNumInitial": 1,
   "hotkeys": {
    "equation": "Ctrl-E",
    "itemize": "Ctrl-I"
   },
   "labels_anchors": false,
   "latex_user_defs": false,
   "report_style_numbering": false,
   "user_envs_cfg": false
  },
  "toc": {
   "base_numbering": 1,
   "nav_menu": {},
   "number_sections": true,
   "sideBar": true,
   "skip_h1_title": false,
   "title_cell": "Table of Contents",
   "title_sidebar": "Contents",
   "toc_cell": false,
   "toc_position": {},
   "toc_section_display": true,
   "toc_window_display": false
  },
  "varInspector": {
   "cols": {
    "lenName": 16,
    "lenType": 16,
    "lenVar": 40
   },
   "kernels_config": {
    "python": {
     "delete_cmd_postfix": "",
     "delete_cmd_prefix": "del ",
     "library": "var_list.py",
     "varRefreshCmd": "print(var_dic_list())"
    },
    "r": {
     "delete_cmd_postfix": ") ",
     "delete_cmd_prefix": "rm(",
     "library": "var_list.r",
     "varRefreshCmd": "cat(var_dic_list()) "
    }
   },
   "types_to_exclude": [
    "module",
    "function",
    "builtin_function_or_method",
    "instance",
    "_Feature"
   ],
   "window_display": false
  }
 },
 "nbformat": 4,
 "nbformat_minor": 4
}
